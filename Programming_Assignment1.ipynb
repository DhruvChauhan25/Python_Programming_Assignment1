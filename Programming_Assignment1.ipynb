{
 "cells": [
  {
   "cell_type": "markdown",
   "id": "6de2f6f7",
   "metadata": {},
   "source": [
    "1. Write a Python program to print &quot;Hello Python&quot;?"
   ]
  },
  {
   "cell_type": "code",
   "execution_count": 2,
   "id": "60609eb1",
   "metadata": {},
   "outputs": [
    {
     "name": "stdout",
     "output_type": "stream",
     "text": [
      "Hello Python\n"
     ]
    }
   ],
   "source": [
    "print(\"Hello Python\")"
   ]
  },
  {
   "cell_type": "markdown",
   "id": "688a9969",
   "metadata": {},
   "source": [
    "2. Write a Python program to do arithmetical operations addition and division.?"
   ]
  },
  {
   "cell_type": "code",
   "execution_count": 5,
   "id": "cd099134",
   "metadata": {},
   "outputs": [
    {
     "name": "stdout",
     "output_type": "stream",
     "text": [
      "Enter a first number 10\n",
      "Enter a second number2\n",
      "The sum of two number is 12.0\n",
      "The division of two number is 5.0\n"
     ]
    }
   ],
   "source": [
    "a=float(input(\"Enter a first number \"))\n",
    "b=float(input(\"Enter a second number\"))\n",
    "c=a+b\n",
    "d=a/b\n",
    "print(f\"The sum of two number is {c}\"  )\n",
    "print(f\"The division of two number is {d}\" )\n"
   ]
  },
  {
   "cell_type": "markdown",
   "id": "feae4b62",
   "metadata": {},
   "source": [
    "3. Write a Python program to find the area of a triangle?"
   ]
  },
  {
   "cell_type": "code",
   "execution_count": 7,
   "id": "a1ec5004",
   "metadata": {},
   "outputs": [
    {
     "name": "stdout",
     "output_type": "stream",
     "text": [
      "Enter the base of a triangle 5\n",
      "Enter the perpendicular height of a triangle 10\n",
      "The area of a triangle is 25.0\n"
     ]
    }
   ],
   "source": [
    "base=float(input(\"Enter the base of a triangle \"))\n",
    "height=float(input(\"Enter the perpendicular height of a triangle \"))\n",
    "area=(base*height)/2\n",
    "print(f\"The area of a triangle is {area}\")"
   ]
  },
  {
   "cell_type": "markdown",
   "id": "320ecd1f",
   "metadata": {},
   "source": [
    "4. Write a Python program to swap two variables?"
   ]
  },
  {
   "cell_type": "code",
   "execution_count": 8,
   "id": "f48feec5",
   "metadata": {},
   "outputs": [
    {
     "name": "stdout",
     "output_type": "stream",
     "text": [
      "Enter a integer number 10\n",
      "Enter a integer number 20\n",
      "20\n",
      "10\n"
     ]
    }
   ],
   "source": [
    "x=int(input(\"Enter a integer number \"))\n",
    "y=int(input(\"Enter a integer number \"))\n",
    "temp=x\n",
    "x=y\n",
    "y=temp\n",
    "print(x)\n",
    "print(y)\n",
    "\n"
   ]
  },
  {
   "cell_type": "markdown",
   "id": "555fa14e",
   "metadata": {},
   "source": [
    "5. Write a Python program to generate a random number?"
   ]
  },
  {
   "cell_type": "code",
   "execution_count": 10,
   "id": "7d38651a",
   "metadata": {},
   "outputs": [
    {
     "name": "stdout",
     "output_type": "stream",
     "text": [
      "54\n"
     ]
    }
   ],
   "source": [
    "import random\n",
    "n=random.randint(0,100)\n",
    "print(n)"
   ]
  },
  {
   "cell_type": "code",
   "execution_count": null,
   "id": "3e9c37b1",
   "metadata": {},
   "outputs": [],
   "source": []
  }
 ],
 "metadata": {
  "kernelspec": {
   "display_name": "Python 3 (ipykernel)",
   "language": "python",
   "name": "python3"
  },
  "language_info": {
   "codemirror_mode": {
    "name": "ipython",
    "version": 3
   },
   "file_extension": ".py",
   "mimetype": "text/x-python",
   "name": "python",
   "nbconvert_exporter": "python",
   "pygments_lexer": "ipython3",
   "version": "3.9.7"
  }
 },
 "nbformat": 4,
 "nbformat_minor": 5
}
